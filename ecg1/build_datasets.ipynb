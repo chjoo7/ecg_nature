{
 "cells": [
  {
   "cell_type": "code",
   "execution_count": 14,
   "metadata": {},
   "outputs": [
    {
     "ename": "ImportError",
     "evalue": "No module named 'util'",
     "output_type": "error",
     "traceback": [
      "\u001b[0;31m---------------------------------------------------------------------------\u001b[0m",
      "\u001b[0;31mImportError\u001b[0m                               Traceback (most recent call last)",
      "\u001b[0;32m<ipython-input-14-da37ba847fcd>\u001b[0m in \u001b[0;36m<module>\u001b[0;34m\u001b[0m\n\u001b[1;32m     18\u001b[0m \u001b[0;32mimport\u001b[0m \u001b[0mnetwork\u001b[0m\u001b[0;34m\u001b[0m\u001b[0m\n\u001b[1;32m     19\u001b[0m \u001b[0;32mimport\u001b[0m \u001b[0mload\u001b[0m\u001b[0;34m\u001b[0m\u001b[0m\n\u001b[0;32m---> 20\u001b[0;31m \u001b[0;32mimport\u001b[0m \u001b[0mutil\u001b[0m\u001b[0;34m\u001b[0m\u001b[0m\n\u001b[0m\u001b[1;32m     21\u001b[0m \u001b[0;34m\u001b[0m\u001b[0m\n\u001b[1;32m     22\u001b[0m \u001b[0mMAX_EPOCHS\u001b[0m \u001b[0;34m=\u001b[0m \u001b[0;36m100\u001b[0m\u001b[0;34m\u001b[0m\u001b[0m\n",
      "\u001b[0;31mImportError\u001b[0m: No module named 'util'"
     ]
    }
   ],
   "source": [
    "from __future__ import print_function\n",
    "from __future__ import division\n",
    "from __future__ import absolute_import\n",
    "\n",
    "import json\n",
    "import numpy as np\n",
    "import os\n",
    "import random\n",
    "import scipy.io as sio\n",
    "import tqdm\n",
    "import pickle \n",
    "import argparse\n",
    "import json\n",
    "import keras\n",
    "import time\n",
    "import sys             #chjoo added on Jul 28-2020\n",
    "import scipy.io as sio\n",
    "import network\n",
    "import load\n",
    "import util\n",
    "\n",
    "MAX_EPOCHS = 100\n",
    "\n",
    "STEP = 256"
   ]
  },
  {
   "cell_type": "code",
   "execution_count": 15,
   "metadata": {},
   "outputs": [],
   "source": [
    "def load_ecg_mat(ecg_file):\n",
    "    return sio.loadmat(ecg_file)['val'].squeeze()"
   ]
  },
  {
   "cell_type": "code",
   "execution_count": 16,
   "metadata": {},
   "outputs": [],
   "source": [
    "def load_all(data_path):\n",
    "    label_file = os.path.join(label_path, \"REFERENCE-v3.csv\")                #C.H.Joo ---- change data_path to label_path and ../REFERENCE-v3.csv to REFERENCE-v3.csv\n",
    "#    print(\"label_file == {}\".format(label_file))       #C.H.Joo --- 2020-07-29\n",
    "    with open(label_file, 'r') as fid:\n",
    "        records = [l.strip().split(\",\") for l in fid]\n",
    "\n",
    "    dataset = []\n",
    "#    print(\"records == {}\".format(records))              #C.H Joo --- 2020-07-29\n",
    "    for record, label in tqdm.tqdm(records):\n",
    "        \n",
    "        ecg_file = os.path.join(data_path, record + \".mat\")\n",
    "        ecg_file = os.path.abspath(ecg_file)\n",
    "        ecg = load_ecg_mat(ecg_file)\n",
    "        num_labels = ecg.shape[0] / STEP\n",
    "#        print(\"num_labels: {}, labes: {}\".format(num_labels, label))\n",
    "        dataset.append((ecg_file, [label]*int(num_labels)))          #C.H. Joo --- 2020-07-30 change wrap the num_labels with int due to float error in num_labels\n",
    "    return dataset"
   ]
  },
  {
   "cell_type": "code",
   "execution_count": 17,
   "metadata": {},
   "outputs": [],
   "source": [
    "def split(dataset, dev_frac):\n",
    "    dev_cut = int(dev_frac * len(dataset))\n",
    "    random.shuffle(dataset)\n",
    "    dev = dataset[:dev_cut]\n",
    "    train = dataset[dev_cut:]\n",
    "    return train, dev"
   ]
  },
  {
   "cell_type": "code",
   "execution_count": 18,
   "metadata": {},
   "outputs": [],
   "source": [
    "def make_json(save_path, dataset):\n",
    "    with open(save_path, 'w') as fid:\n",
    "        for d in dataset:\n",
    "            datum = {'ecg' : d[0],\n",
    "                     'labels' : d[1]}\n",
    "            json.dump(datum, fid)\n",
    "            fid.write('\\n')"
   ]
  },
  {
   "cell_type": "code",
   "execution_count": 19,
   "metadata": {},
   "outputs": [
    {
     "name": "stderr",
     "output_type": "stream",
     "text": [
      "  0%|          | 0/8528 [00:00<?, ?it/s]\n"
     ]
    },
    {
     "ename": "NameError",
     "evalue": "name 'STEP' is not defined",
     "output_type": "error",
     "traceback": [
      "\u001b[0;31m---------------------------------------------------------------------------\u001b[0m",
      "\u001b[0;31mNameError\u001b[0m                                 Traceback (most recent call last)",
      "\u001b[0;32m<ipython-input-19-1ee211308003>\u001b[0m in \u001b[0;36m<module>\u001b[0;34m\u001b[0m\n\u001b[1;32m      5\u001b[0m     \u001b[0mdata_path\u001b[0m \u001b[0;34m=\u001b[0m \u001b[0;34m\"/home/jovyan/ecg/examples/cinc17/data/training2017/\"\u001b[0m  \u001b[0;31m#c.H.Joo --- 2020-07-30 changed from data/training2017 to /home/~/training2017\u001b[0m\u001b[0;34m\u001b[0m\u001b[0m\n\u001b[1;32m      6\u001b[0m     \u001b[0mlabel_path\u001b[0m \u001b[0;34m=\u001b[0m \u001b[0;34m\"/home/jovyan/ecg/examples/cinc17/\"\u001b[0m      \u001b[0;31m#C.H.Joo --- 2020-07-29\u001b[0m\u001b[0;34m\u001b[0m\u001b[0m\n\u001b[0;32m----> 7\u001b[0;31m     \u001b[0mdataset\u001b[0m \u001b[0;34m=\u001b[0m \u001b[0mload_all\u001b[0m\u001b[0;34m(\u001b[0m\u001b[0mdata_path\u001b[0m\u001b[0;34m)\u001b[0m\u001b[0;34m\u001b[0m\u001b[0m\n\u001b[0m\u001b[1;32m      8\u001b[0m     \u001b[0mtrain\u001b[0m\u001b[0;34m,\u001b[0m \u001b[0mdev\u001b[0m \u001b[0;34m=\u001b[0m \u001b[0msplit\u001b[0m\u001b[0;34m(\u001b[0m\u001b[0mdataset\u001b[0m\u001b[0;34m,\u001b[0m \u001b[0mdev_frac\u001b[0m\u001b[0;34m)\u001b[0m\u001b[0;34m\u001b[0m\u001b[0m\n\u001b[1;32m      9\u001b[0m     \u001b[0mmake_json\u001b[0m\u001b[0;34m(\u001b[0m\u001b[0;34m\"train.json\"\u001b[0m\u001b[0;34m,\u001b[0m \u001b[0mtrain\u001b[0m\u001b[0;34m)\u001b[0m\u001b[0;34m\u001b[0m\u001b[0m\n",
      "\u001b[0;32m<ipython-input-16-eb4d1d860448>\u001b[0m in \u001b[0;36mload_all\u001b[0;34m(data_path)\u001b[0m\n\u001b[1;32m     12\u001b[0m         \u001b[0mecg_file\u001b[0m \u001b[0;34m=\u001b[0m \u001b[0mos\u001b[0m\u001b[0;34m.\u001b[0m\u001b[0mpath\u001b[0m\u001b[0;34m.\u001b[0m\u001b[0mabspath\u001b[0m\u001b[0;34m(\u001b[0m\u001b[0mecg_file\u001b[0m\u001b[0;34m)\u001b[0m\u001b[0;34m\u001b[0m\u001b[0m\n\u001b[1;32m     13\u001b[0m         \u001b[0mecg\u001b[0m \u001b[0;34m=\u001b[0m \u001b[0mload_ecg_mat\u001b[0m\u001b[0;34m(\u001b[0m\u001b[0mecg_file\u001b[0m\u001b[0;34m)\u001b[0m\u001b[0;34m\u001b[0m\u001b[0m\n\u001b[0;32m---> 14\u001b[0;31m         \u001b[0mnum_labels\u001b[0m \u001b[0;34m=\u001b[0m \u001b[0mecg\u001b[0m\u001b[0;34m.\u001b[0m\u001b[0mshape\u001b[0m\u001b[0;34m[\u001b[0m\u001b[0;36m0\u001b[0m\u001b[0;34m]\u001b[0m \u001b[0;34m/\u001b[0m \u001b[0mSTEP\u001b[0m\u001b[0;34m\u001b[0m\u001b[0m\n\u001b[0m\u001b[1;32m     15\u001b[0m \u001b[0;31m#        print(\"num_labels: {}, labes: {}\".format(num_labels, label))\u001b[0m\u001b[0;34m\u001b[0m\u001b[0;34m\u001b[0m\u001b[0m\n\u001b[1;32m     16\u001b[0m         \u001b[0mdataset\u001b[0m\u001b[0;34m.\u001b[0m\u001b[0mappend\u001b[0m\u001b[0;34m(\u001b[0m\u001b[0;34m(\u001b[0m\u001b[0mecg_file\u001b[0m\u001b[0;34m,\u001b[0m \u001b[0;34m[\u001b[0m\u001b[0mlabel\u001b[0m\u001b[0;34m]\u001b[0m\u001b[0;34m*\u001b[0m\u001b[0mint\u001b[0m\u001b[0;34m(\u001b[0m\u001b[0mnum_labels\u001b[0m\u001b[0;34m)\u001b[0m\u001b[0;34m)\u001b[0m\u001b[0;34m)\u001b[0m          \u001b[0;31m#C.H. Joo --- 2020-07-30 change wrap the num_labels with int due to float error in num_labels\u001b[0m\u001b[0;34m\u001b[0m\u001b[0m\n",
      "\u001b[0;31mNameError\u001b[0m: name 'STEP' is not defined"
     ]
    }
   ],
   "source": [
    "if __name__ == \"__main__\":\n",
    "    random.seed(2018)\n",
    "\n",
    "    dev_frac = 0.1\n",
    "    data_path = \"/home/jovyan/ecg/examples/cinc17/data/training2017/\"  #c.H.Joo --- 2020-07-30 changed from data/training2017 to /home/~/training2017\n",
    "    label_path = \"/home/jovyan/ecg/examples/cinc17/\"      #C.H.Joo --- 2020-07-29\n",
    "    dataset = load_all(data_path)\n",
    "    train, dev = split(dataset, dev_frac)\n",
    "    make_json(\"train.json\", train)\n",
    "    make_json(\"dev.json\", dev)"
   ]
  },
  {
   "cell_type": "markdown",
   "metadata": {},
   "source": [
    "## util"
   ]
  },
  {
   "cell_type": "code",
   "execution_count": 5,
   "metadata": {},
   "outputs": [],
   "source": [
    "def load(dirname):\n",
    "    preproc_f = os.path.join(dirname, \"preproc.bin\")\n",
    "    with open(preproc_f, 'r') as fid:\n",
    "        preproc = pickle.load(fid)\n",
    "    return preproc"
   ]
  },
  {
   "cell_type": "code",
   "execution_count": 6,
   "metadata": {},
   "outputs": [],
   "source": [
    "def save(preproc, dirname):\n",
    "    preproc_f = os.path.join(dirname, \"preproc.bin\")\n",
    "    with open(preproc_f, 'w') as fid:\n",
    "        print(\"preproc_f = {}, fid = {}\".format(preproc_f, fid))  #C.H. Joo -- 2020-07-30\n",
    "        pickle.dump(preproc, fid)\n"
   ]
  },
  {
   "cell_type": "markdown",
   "metadata": {},
   "source": [
    "## load"
   ]
  },
  {
   "cell_type": "code",
   "execution_count": 7,
   "metadata": {},
   "outputs": [],
   "source": [
    "def data_generator(batch_size, preproc, x, y):\n",
    "    num_examples = len(x)\n",
    "    examples = zip(x, y)\n",
    "    examples = sorted(examples, key = lambda x: x[0].shape[0])\n",
    "    end = num_examples - batch_size + 1\n",
    "    batches = [examples[i:i+batch_size]\n",
    "                for i in range(0, end, batch_size)]\n",
    "    random.shuffle(batches)\n",
    "    while True:\n",
    "        for batch in batches:\n",
    "            x, y = zip(*batch)\n",
    "            yield preproc.process(x, y)"
   ]
  },
  {
   "cell_type": "code",
   "execution_count": 8,
   "metadata": {},
   "outputs": [],
   "source": [
    "class Preproc:\n",
    "\n",
    "    def __init__(self, ecg, labels):\n",
    "        self.mean, self.std = compute_mean_std(ecg)\n",
    "        self.classes = sorted(set(l for label in labels for l in label))\n",
    "        self.int_to_class = dict( zip(range(len(self.classes)), self.classes))\n",
    "        self.class_to_int = {c : i for i, c in self.int_to_class.items()}\n",
    "\n",
    "    def process(self, x, y):\n",
    "        return self.process_x(x), self.process_y(y)\n",
    "\n",
    "    def process_x(self, x):\n",
    "        x = pad(x)\n",
    "        x = (x - self.mean) / self.std\n",
    "        x = x[:, :, None]\n",
    "        return x\n",
    "\n",
    "    def process_y(self, y):\n",
    "        # TODO, awni, fix hack pad with noise for cinc\n",
    "        y = pad([[self.class_to_int[c] for c in s] for s in y], val=3, dtype=np.int32) \n",
    "        y = keras.utils.np_utils.to_categorical(\n",
    "                y, num_classes=len(self.classes))\n",
    "        return y"
   ]
  },
  {
   "cell_type": "code",
   "execution_count": 9,
   "metadata": {},
   "outputs": [],
   "source": [
    "def pad(x, val=0, dtype=np.float32):\n",
    "    max_len = max(len(i) for i in x)\n",
    "    padded = np.full((len(x), max_len), val, dtype=dtype)\n",
    "    for e, i in enumerate(x):\n",
    "        padded[e, :len(i)] = i\n",
    "    return padded"
   ]
  },
  {
   "cell_type": "code",
   "execution_count": 10,
   "metadata": {},
   "outputs": [],
   "source": [
    "def compute_mean_std(x):\n",
    "    x = np.hstack(x)\n",
    "    return (np.mean(x).astype(np.float32),\n",
    "           np.std(x).astype(np.float32))"
   ]
  },
  {
   "cell_type": "code",
   "execution_count": 11,
   "metadata": {},
   "outputs": [],
   "source": [
    "def load_dataset(data_json):\n",
    "    with open(data_json, 'r') as fid:\n",
    "        data = [json.loads(l) for l in fid]\n",
    "    labels = []; ecgs = []\n",
    "    for d in tqdm.tqdm(data):\n",
    "        labels.append(d['labels'])\n",
    "        ecgs.append(load_ecg(d['ecg']))\n",
    "    return ecgs, labels"
   ]
  },
  {
   "cell_type": "code",
   "execution_count": 12,
   "metadata": {},
   "outputs": [],
   "source": [
    "def load_ecg(record):\n",
    "    if os.path.splitext(record)[1] == \".npy\":\n",
    "        ecg = np.load(record)\n",
    "    elif os.path.splitext(record)[1] == \".mat\":\n",
    "        ecg = sio.loadmat(record)['val'].squeeze()\n",
    "    else: # Assumes binary 16 bit integers\n",
    "        with open(record, 'r') as fid:\n",
    "            ecg = np.fromfile(fid, dtype=np.int16)\n",
    "\n",
    "    trunc_samp = STEP * int(len(ecg) / STEP)\n",
    "    return ecg[:trunc_samp]\n"
   ]
  },
  {
   "cell_type": "code",
   "execution_count": 13,
   "metadata": {},
   "outputs": [
    {
     "name": "stderr",
     "output_type": "stream",
     "text": [
      "  0%|          | 0/7676 [00:00<?, ?it/s]\n"
     ]
    },
    {
     "ename": "NameError",
     "evalue": "name 'STEP' is not defined",
     "output_type": "error",
     "traceback": [
      "\u001b[0;31m---------------------------------------------------------------------------\u001b[0m",
      "\u001b[0;31mNameError\u001b[0m                                 Traceback (most recent call last)",
      "\u001b[0;32m<ipython-input-13-13a7ed663a28>\u001b[0m in \u001b[0;36m<module>\u001b[0;34m\u001b[0m\n\u001b[1;32m      1\u001b[0m \u001b[0;32mif\u001b[0m \u001b[0m__name__\u001b[0m \u001b[0;34m==\u001b[0m \u001b[0;34m\"__main__\"\u001b[0m\u001b[0;34m:\u001b[0m\u001b[0;34m\u001b[0m\u001b[0m\n\u001b[1;32m      2\u001b[0m     \u001b[0mdata_json\u001b[0m \u001b[0;34m=\u001b[0m \u001b[0;34m\"/home/jovyan/ecg/examples/cinc17/train.json\"\u001b[0m        \u001b[0;31m#C.H. Joo --- 2020-07-30 change: data_json path from examples/cinc17/train.json to /home/~cinc17\u001b[0m\u001b[0;34m\u001b[0m\u001b[0m\n\u001b[0;32m----> 3\u001b[0;31m     \u001b[0mtrain\u001b[0m \u001b[0;34m=\u001b[0m \u001b[0mload_dataset\u001b[0m\u001b[0;34m(\u001b[0m\u001b[0mdata_json\u001b[0m\u001b[0;34m)\u001b[0m\u001b[0;34m\u001b[0m\u001b[0m\n\u001b[0m\u001b[1;32m      4\u001b[0m     \u001b[0mpreproc\u001b[0m \u001b[0;34m=\u001b[0m \u001b[0mPreproc\u001b[0m\u001b[0;34m(\u001b[0m\u001b[0;34m*\u001b[0m\u001b[0mtrain\u001b[0m\u001b[0;34m)\u001b[0m\u001b[0;34m\u001b[0m\u001b[0m\n\u001b[1;32m      5\u001b[0m     \u001b[0mgen\u001b[0m \u001b[0;34m=\u001b[0m \u001b[0mdata_generator\u001b[0m\u001b[0;34m(\u001b[0m\u001b[0;36m32\u001b[0m\u001b[0;34m,\u001b[0m \u001b[0mpreproc\u001b[0m\u001b[0;34m,\u001b[0m \u001b[0;34m*\u001b[0m\u001b[0mtrain\u001b[0m\u001b[0;34m)\u001b[0m\u001b[0;34m\u001b[0m\u001b[0m\n",
      "\u001b[0;32m<ipython-input-11-f493d03227e8>\u001b[0m in \u001b[0;36mload_dataset\u001b[0;34m(data_json)\u001b[0m\n\u001b[1;32m      5\u001b[0m     \u001b[0;32mfor\u001b[0m \u001b[0md\u001b[0m \u001b[0;32min\u001b[0m \u001b[0mtqdm\u001b[0m\u001b[0;34m.\u001b[0m\u001b[0mtqdm\u001b[0m\u001b[0;34m(\u001b[0m\u001b[0mdata\u001b[0m\u001b[0;34m)\u001b[0m\u001b[0;34m:\u001b[0m\u001b[0;34m\u001b[0m\u001b[0m\n\u001b[1;32m      6\u001b[0m         \u001b[0mlabels\u001b[0m\u001b[0;34m.\u001b[0m\u001b[0mappend\u001b[0m\u001b[0;34m(\u001b[0m\u001b[0md\u001b[0m\u001b[0;34m[\u001b[0m\u001b[0;34m'labels'\u001b[0m\u001b[0;34m]\u001b[0m\u001b[0;34m)\u001b[0m\u001b[0;34m\u001b[0m\u001b[0m\n\u001b[0;32m----> 7\u001b[0;31m         \u001b[0mecgs\u001b[0m\u001b[0;34m.\u001b[0m\u001b[0mappend\u001b[0m\u001b[0;34m(\u001b[0m\u001b[0mload_ecg\u001b[0m\u001b[0;34m(\u001b[0m\u001b[0md\u001b[0m\u001b[0;34m[\u001b[0m\u001b[0;34m'ecg'\u001b[0m\u001b[0;34m]\u001b[0m\u001b[0;34m)\u001b[0m\u001b[0;34m)\u001b[0m\u001b[0;34m\u001b[0m\u001b[0m\n\u001b[0m\u001b[1;32m      8\u001b[0m     \u001b[0;32mreturn\u001b[0m \u001b[0mecgs\u001b[0m\u001b[0;34m,\u001b[0m \u001b[0mlabels\u001b[0m\u001b[0;34m\u001b[0m\u001b[0m\n",
      "\u001b[0;32m<ipython-input-12-b7eed1010c84>\u001b[0m in \u001b[0;36mload_ecg\u001b[0;34m(record)\u001b[0m\n\u001b[1;32m      8\u001b[0m             \u001b[0mecg\u001b[0m \u001b[0;34m=\u001b[0m \u001b[0mnp\u001b[0m\u001b[0;34m.\u001b[0m\u001b[0mfromfile\u001b[0m\u001b[0;34m(\u001b[0m\u001b[0mfid\u001b[0m\u001b[0;34m,\u001b[0m \u001b[0mdtype\u001b[0m\u001b[0;34m=\u001b[0m\u001b[0mnp\u001b[0m\u001b[0;34m.\u001b[0m\u001b[0mint16\u001b[0m\u001b[0;34m)\u001b[0m\u001b[0;34m\u001b[0m\u001b[0m\n\u001b[1;32m      9\u001b[0m \u001b[0;34m\u001b[0m\u001b[0m\n\u001b[0;32m---> 10\u001b[0;31m     \u001b[0mtrunc_samp\u001b[0m \u001b[0;34m=\u001b[0m \u001b[0mSTEP\u001b[0m \u001b[0;34m*\u001b[0m \u001b[0mint\u001b[0m\u001b[0;34m(\u001b[0m\u001b[0mlen\u001b[0m\u001b[0;34m(\u001b[0m\u001b[0mecg\u001b[0m\u001b[0;34m)\u001b[0m \u001b[0;34m/\u001b[0m \u001b[0mSTEP\u001b[0m\u001b[0;34m)\u001b[0m\u001b[0;34m\u001b[0m\u001b[0m\n\u001b[0m\u001b[1;32m     11\u001b[0m     \u001b[0;32mreturn\u001b[0m \u001b[0mecg\u001b[0m\u001b[0;34m[\u001b[0m\u001b[0;34m:\u001b[0m\u001b[0mtrunc_samp\u001b[0m\u001b[0;34m]\u001b[0m\u001b[0;34m\u001b[0m\u001b[0m\n",
      "\u001b[0;31mNameError\u001b[0m: name 'STEP' is not defined"
     ]
    }
   ],
   "source": [
    "if __name__ == \"__main__\":\n",
    "    data_json = \"/home/jovyan/ecg/examples/cinc17/train.json\"        #C.H. Joo --- 2020-07-30 change: data_json path from examples/cinc17/train.json to /home/~cinc17\n",
    "    train = load_dataset(data_json)\n",
    "    preproc = Preproc(*train)\n",
    "    gen = data_generator(32, preproc, *train)\n",
    "    for x, y in gen:\n",
    "        print(x.shape, y.shape)\n",
    "        break"
   ]
  },
  {
   "cell_type": "code",
   "execution_count": null,
   "metadata": {},
   "outputs": [],
   "source": []
  },
  {
   "cell_type": "code",
   "execution_count": null,
   "metadata": {},
   "outputs": [],
   "source": []
  },
  {
   "cell_type": "code",
   "execution_count": 102,
   "metadata": {},
   "outputs": [],
   "source": [
    "def make_save_dir(dirname, experiment_name):\n",
    "    start_time = str(int(time.time())) + '-' + str(random.randrange(1000))\n",
    "    save_dir = os.path.join(dirname, experiment_name, start_time)\n",
    "    if not os.path.exists(save_dir):\n",
    "        os.makedirs(save_dir)\n",
    "    return save_dir"
   ]
  },
  {
   "cell_type": "code",
   "execution_count": 103,
   "metadata": {},
   "outputs": [],
   "source": [
    "def get_filename_for_saving(save_dir):\n",
    "    return os.path.join(save_dir,\n",
    "            \"{val_loss:.3f}-{val_acc:.3f}-{epoch:03d}-{loss:.3f}-{acc:.3f}.hdf5\")"
   ]
  },
  {
   "cell_type": "code",
   "execution_count": 104,
   "metadata": {},
   "outputs": [],
   "source": [
    "def train(args, params):\n",
    "    print(sys.argv[1:])\n",
    "    print(\"Loading training set...\")\n",
    "    train = load.load_dataset(params['train'])\n",
    "    print(\"Loading dev set...\")\n",
    "    dev = load.load_dataset(params['dev'])\n",
    "    print(\"Building preprocessor...\")\n",
    "    preproc = load.Preproc(*train)\n",
    "    print(\"Training size: \" + str(len(train[0])) + \" examples.\")\n",
    "    print(\"Dev size: \" + str(len(dev[0])) + \" examples.\")\n",
    "\n",
    "\n",
    "    save_dir = make_save_dir(params['save_dir'], args.experiment)\n",
    "\n",
    "    util.save(preproc, save_dir)\n",
    "\n",
    "    params.update({\n",
    "        \"input_shape\": [None, 1],\n",
    "        \"num_categories\": len(preproc.classes)\n",
    "    })\n",
    "    \n",
    "    model = network.build_network(**params)\n",
    "\n",
    "    stopping = keras.callbacks.EarlyStopping(patience=8)\n",
    "\n",
    "    reduce_lr = keras.callbacks.ReduceLROnPlateau(\n",
    "        factor=0.1,\n",
    "        patience=2,\n",
    "        min_lr=params[\"learning_rate\"] * 0.001)\n",
    "\n",
    "    checkpointer = keras.callbacks.ModelCheckpoint(\n",
    "        filepath=get_filename_for_saving(save_dir),\n",
    "        save_best_only=False)\n",
    "\n",
    "    batch_size = params.get(\"batch_size\", 32)\n",
    "\n",
    "    if params.get(\"generator\", False):\n",
    "        train_gen = load.data_generator(batch_size, preproc, *train)\n",
    "        dev_gen = load.data_generator(batch_size, preproc, *dev)\n",
    "        model.fit_generator(\n",
    "            train_gen,\n",
    "            steps_per_epoch=int(len(train[0]) / batch_size),\n",
    "            epochs=MAX_EPOCHS,\n",
    "            validation_data=dev_gen,\n",
    "            validation_steps=int(len(dev[0]) / batch_size),\n",
    "            callbacks=[checkpointer, reduce_lr, stopping])\n",
    "    else:\n",
    "        train_x, train_y = preproc.process(*train)\n",
    "        dev_x, dev_y = preproc.process(*dev)\n",
    "        model.fit(\n",
    "            train_x, train_y,\n",
    "            batch_size=batch_size,\n",
    "            epochs=MAX_EPOCHS,\n",
    "            validation_data=(dev_x, dev_y),\n",
    "            callbacks=[checkpointer, reduce_lr, stopping])"
   ]
  },
  {
   "cell_type": "code",
   "execution_count": 105,
   "metadata": {},
   "outputs": [
    {
     "name": "stderr",
     "output_type": "stream",
     "text": [
      "usage: ipykernel_launcher.py [-h] [--experiment EXPERIMENT] config_file\n",
      "ipykernel_launcher.py: error: unrecognized arguments: -f\n"
     ]
    },
    {
     "ename": "SystemExit",
     "evalue": "2",
     "output_type": "error",
     "traceback": [
      "An exception has occurred, use %tb to see the full traceback.\n",
      "\u001b[0;31mSystemExit\u001b[0m\u001b[0;31m:\u001b[0m 2\n"
     ]
    },
    {
     "name": "stderr",
     "output_type": "stream",
     "text": [
      "/usr/local/lib/python3.5/dist-packages/IPython/core/interactiveshell.py:3334: UserWarning: To exit: use 'exit', 'quit', or Ctrl-D.\n",
      "  warn(\"To exit: use 'exit', 'quit', or Ctrl-D.\", stacklevel=1)\n"
     ]
    }
   ],
   "source": [
    "if __name__ == '__main__':\n",
    "    parser = argparse.ArgumentParser()\n",
    "    parser.add_argument(\"config_file\", help=\"path to config file\")\n",
    "    parser.add_argument(\"--experiment\", \"-e\", help=\"tag with experiment name\",\n",
    "                        default=\"default\")\n",
    "    args = parser.parse_args()\n",
    "    print(\"args.config_file = {}\".format(args.config_file))\n",
    "    params = json.load(open(args.config_file, 'r'))\n",
    "    train(args, params)"
   ]
  },
  {
   "cell_type": "code",
   "execution_count": null,
   "metadata": {},
   "outputs": [],
   "source": []
  }
 ],
 "metadata": {
  "kernelspec": {
   "display_name": "Python 3",
   "language": "python",
   "name": "python3"
  },
  "language_info": {
   "codemirror_mode": {
    "name": "ipython",
    "version": 3
   },
   "file_extension": ".py",
   "mimetype": "text/x-python",
   "name": "python",
   "nbconvert_exporter": "python",
   "pygments_lexer": "ipython3",
   "version": "3.5.2"
  }
 },
 "nbformat": 4,
 "nbformat_minor": 4
}
